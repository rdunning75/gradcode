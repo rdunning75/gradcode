{
 "cells": [
  {
   "cell_type": "code",
   "execution_count": 3,
   "id": "e46a4925",
   "metadata": {},
   "outputs": [],
   "source": [
    "import os\n",
    "import shutil\n",
    "import numpy as np\n",
    "import matplotlib.pyplot as plt\n",
    "from osgeo import gdal\n",
    "paths = [r'D:\\CS_Course_Material\\Graduate_Program\\workspace\\DATA\\current_data\\new_data\\precipitation_estimate_1day',\n",
    "         r'D:\\CS_Course_Material\\Graduate_Program\\workspace\\DATA\\current_data\\new_data\\NDVI_16day',\n",
    "        r'D:\\CS_Course_Material\\Graduate_Program\\workspace\\DATA\\current_data\\new_data\\firemask_8day',\n",
    "        r'D:\\CS_Course_Material\\Graduate_Program\\workspace\\DATA\\current_data\\new_data\\evapotranspiration_8day']"
   ]
  },
  {
   "cell_type": "code",
   "execution_count": 59,
   "id": "3e73f8f4",
   "metadata": {},
   "outputs": [],
   "source": [
    "# function: repeate photos in a directory to match temporal pattern of second directory\n",
    "#    e.g. if a set of photos is 8 days in time and a second photo is 16 days in time\n",
    "#         the 16 day photo must be repeated twice\n",
    "#\n",
    "# Takes: string path to image set with smaller time delta (i.e. more images), \n",
    "#        string path to image set with larger time delta (i.e. less images),\n",
    "#        time ratio of smaller to larger time sets\n",
    "#\n",
    "# Returns: nothing, but directories should have equal number of images\n",
    "# \n",
    "#\n",
    "#\n",
    "def repeat(path_to_image_set_1,path_to_image_set_2, steps1, steps2):\n",
    "    time_ratio = (int)(steps2/steps1)\n",
    "#     count = 0\n",
    "    images = [name for name in sorted(os.listdir(path_to_image_set_2))]\n",
    "    images2 = [name for name in sorted(os.listdir(path_to_image_set_1))]\n",
    "    for y in range(len(images)):\n",
    "        things = images[y].rsplit(\".\",1)\n",
    "        for i in range(time_ratio-1):\n",
    "            shutil.copyfile(path_to_image_set_2+\"\\\\\"+images[y],path_to_image_set_2 + \"\\\\\"+things[0]+chr(i+97)+\".tif\")\n",
    "    "
   ]
  },
  {
   "cell_type": "code",
   "execution_count": 60,
   "id": "975ce141",
   "metadata": {},
   "outputs": [],
   "source": [
    "# repeat(paths[0],paths[1],1,16)\n",
    "# repeat(paths[0],paths[2],1,8)\n",
    "# repeat(paths[0],paths[3],1,8)\n"
   ]
  },
  {
   "cell_type": "code",
   "execution_count": 73,
   "id": "da2ab132",
   "metadata": {},
   "outputs": [],
   "source": [
    "def changeCRS(path_to_image_set,path_to_new_location, options):\n",
    "    directory_change = \"EPSG_4326\"\n",
    "    for y in sorted(os.listdir(path_to_image_set)):\n",
    "        if((y).endswith('.tif')):\n",
    "            raster = gdal.Open(os.path.join(path_to_image_set,y))\n",
    "#         print(os.path.join(path_to_new_location,y))\n",
    "            gdal.Warp(os.path.join(path_to_new_location,y),raster, options = options)\n",
    "        "
   ]
  },
  {
   "cell_type": "code",
   "execution_count": 74,
   "id": "b8d7d5a8",
   "metadata": {},
   "outputs": [],
   "source": [
    "# changeCRS(r'D:\\CS_Course_Material\\Graduate_Program\\workspace\\DATA\\current_data\\copys\\ndvi_16day_copy',r'D:\\CS_Course_Material\\Graduate_Program\\workspace\\DATA\\current_data\\testing_directory\\changeCRS_testing',\"ESRI:102000\")"
   ]
  },
  {
   "cell_type": "code",
   "execution_count": 75,
   "id": "cdaae3cf",
   "metadata": {},
   "outputs": [],
   "source": [
    "import georaster"
   ]
  },
  {
   "cell_type": "code",
   "execution_count": 92,
   "id": "efa6990b",
   "metadata": {},
   "outputs": [
    {
     "name": "stdout",
     "output_type": "stream",
     "text": [
      "-141.75\n"
     ]
    }
   ],
   "source": [
    "other_ones_dir = r'D:\\CS_Course_Material\\Graduate_Program\\workspace\\DATA\\current_data\\new_data\\X\\EPSG_4326'\n",
    "other_ones = [dirs for dirs in sorted(os.listdir(other_ones_dir))]\n",
    "i = 0\n",
    "path_to_image_set = r'D:\\CS_Course_Material\\Graduate_Program\\workspace\\DATA\\current_data\\new_data\\X\\raw_geotif'\n",
    "path = r'D:\\CS_Course_Material\\Graduate_Program\\workspace\\DATA\\current_data\\new_data\\X\\raw_geotif\\precipitation_estimate_1day\\DAYMET.004_prcp_doy2015001_aid0001.tif'\n",
    "image = georaster.SingleBandRaster(path, load_data = False)\n",
    "path_to_cutline = r'D:\\CS_Course_Material\\Graduate_Program\\workspace\\DATA\\current_data\\new_data\\X\\shape_file\\shapefile_of_data.shp'\n",
    "\n",
    "print(minx)\n",
    "\n",
    "options = gdal.WarpOptions(dstSRS = \"EPSG:4326\", cutlineDSName=path_to_cutline, cropToCutline=True)"
   ]
  },
  {
   "cell_type": "code",
   "execution_count": 93,
   "id": "d9c58b28",
   "metadata": {},
   "outputs": [],
   "source": [
    "for y in sorted(os.listdir(path_to_image_set)):\n",
    "    changeCRS(os.path.join(path_to_image_set,y),os.path.join(other_ones_dir,other_ones[i]),options)\n",
    "    i += 1"
   ]
  },
  {
   "cell_type": "code",
   "execution_count": null,
   "id": "3c22a288",
   "metadata": {},
   "outputs": [],
   "source": [
    "changeCRS(r'D:\\CS_Course_Material\\Graduate_Program\\workspace\\DATA\\current_data\\new_data\\y\\raw_geotiff\\firemask_8day',r'D:\\CS_Course_Material\\Graduate_Program\\workspace\\DATA\\current_data\\new_data\\y\\EPSG_4326\\firemask_8day',options)"
   ]
  },
  {
   "cell_type": "code",
   "execution_count": null,
   "id": "d1c420f8",
   "metadata": {},
   "outputs": [],
   "source": []
  }
 ],
 "metadata": {
  "kernelspec": {
   "display_name": "Python 3 (ipykernel)",
   "language": "python",
   "name": "python3"
  },
  "language_info": {
   "codemirror_mode": {
    "name": "ipython",
    "version": 3
   },
   "file_extension": ".py",
   "mimetype": "text/x-python",
   "name": "python",
   "nbconvert_exporter": "python",
   "pygments_lexer": "ipython3",
   "version": "3.9.5"
  }
 },
 "nbformat": 4,
 "nbformat_minor": 5
}
